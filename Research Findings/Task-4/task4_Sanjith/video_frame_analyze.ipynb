{
 "cells": [
  {
   "cell_type": "code",
   "execution_count": 1,
   "metadata": {},
   "outputs": [],
   "source": [
    "# Grayscale and Threshold on each frame of a video\n",
    "\n",
    "import cv2\n",
    "import numpy as np\n",
    " \n",
    "cap = cv2.VideoCapture('video.mp4')\n",
    " \n",
    "while (cap.isOpened()):\n",
    "    ret, frame = cap.read()\n",
    "    try:\n",
    "        frame = cv2.resize(frame, (540, 380), fx = 0, fy = 0,\n",
    "                            interpolation = cv2.INTER_CUBIC)\n",
    "        cv2.imshow('Frame', frame)\n",
    "        gray = cv2.cvtColor(frame, cv2.COLOR_BGR2GRAY)\n",
    "        Thresh = cv2.adaptiveThreshold(gray, 255, cv2.ADAPTIVE_THRESH_MEAN_C,\n",
    "                                            cv2.THRESH_BINARY_INV, 11, 2)\n",
    "        cv2.imshow('Thresh', Thresh)\n",
    "    except Exception as e:\n",
    "        break;\n",
    "    if cv2.waitKey(25) & 0xFF == ord('q'):\n",
    "        break\n",
    " \n",
    "cap.release()\n",
    "cv2.destroyAllWindows()"
   ]
  }
 ],
 "metadata": {
  "kernelspec": {
   "display_name": "virt",
   "language": "python",
   "name": "python3"
  },
  "language_info": {
   "codemirror_mode": {
    "name": "ipython",
    "version": 3
   },
   "file_extension": ".py",
   "mimetype": "text/x-python",
   "name": "python",
   "nbconvert_exporter": "python",
   "pygments_lexer": "ipython3",
   "version": "3.10.6"
  },
  "orig_nbformat": 4
 },
 "nbformat": 4,
 "nbformat_minor": 2
}
