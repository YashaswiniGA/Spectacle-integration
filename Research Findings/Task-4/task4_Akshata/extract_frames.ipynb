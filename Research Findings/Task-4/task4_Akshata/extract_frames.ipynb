{
 "cells": [
  {
   "cell_type": "code",
   "execution_count": 2,
   "id": "86cd72e0",
   "metadata": {},
   "outputs": [],
   "source": [
    "import cv2\n",
    "import os"
   ]
  },
  {
   "cell_type": "code",
   "execution_count": 3,
   "id": "23d717c9",
   "metadata": {},
   "outputs": [],
   "source": [
    "vid=cv2.VideoCapture('vid.mp4')"
   ]
  },
  {
   "cell_type": "raw",
   "id": "e8c8204b",
   "metadata": {},
   "source": []
  },
  {
   "cell_type": "code",
   "execution_count": 4,
   "id": "03e5382e",
   "metadata": {},
   "outputs": [],
   "source": [
    "if not os.path.exists('data'):\n",
    "    os.makedirs('data')"
   ]
  },
  {
   "cell_type": "code",
   "execution_count": 8,
   "id": "04cb5d52",
   "metadata": {},
   "outputs": [],
   "source": [
    "currentframe=0\n",
    "while True:\n",
    "    success, img = vid.read()\n",
    "    cv2.imshow(\"Output\",img)\n",
    "    cv2.imwrite('frame'+str(currentframe)+'.jpg',img)\n",
    "    currentframe+=1\n",
    "    if cv2.waitKey(32) & 0xFF == ord('q'):\n",
    "        break\n",
    "currentframe=0\n",
    "cv2.destroyAllWindows()"
   ]
  }
 ],
 "metadata": {
  "kernelspec": {
   "display_name": "Python 3 (ipykernel)",
   "language": "python",
   "name": "python3"
  },
  "language_info": {
   "codemirror_mode": {
    "name": "ipython",
    "version": 3
   },
   "file_extension": ".py",
   "mimetype": "text/x-python",
   "name": "python",
   "nbconvert_exporter": "python",
   "pygments_lexer": "ipython3",
   "version": "3.10.9"
  }
 },
 "nbformat": 4,
 "nbformat_minor": 5
}
